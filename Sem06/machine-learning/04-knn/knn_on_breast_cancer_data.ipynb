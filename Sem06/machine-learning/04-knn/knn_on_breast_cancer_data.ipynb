{
 "cells": [
  {
   "cell_type": "code",
   "execution_count": 3,
   "id": "90827992-4178-402e-8c89-0646e97562a1",
   "metadata": {},
   "outputs": [],
   "source": [
    "import numpy as np \n",
    "import pandas as pd \n",
    "from sklearn.model_selection import train_test_split \n",
    "from sklearn.neighbors import KNeighborsClassifier \n",
    "import matplotlib.pyplot as plt \n",
    "import seaborn as sns\n"
   ]
  },
  {
   "cell_type": "markdown",
   "id": "eaaff1eb-007b-4b07-b110-62ae26dca77f",
   "metadata": {},
   "source": [
    "#### save dataset as csv"
   ]
  },
  {
   "cell_type": "code",
   "execution_count": 13,
   "id": "140b7898-71d6-4fb1-a758-0db5e1cd5d13",
   "metadata": {},
   "outputs": [],
   "source": [
    "from sklearn.datasets import load_breast_cancer\n",
    "\n",
    "# Load dataset\n",
    "data = load_breast_cancer()\n",
    "df = pd.DataFrame(data.data, columns=data.feature_names)\n",
    "df.head()\n",
    "\n",
    "df.to_csv(\"breast_cancer.csv\")\n",
    "# df = pd.read_csv('breast_cancer_wisconsin.csv') \n",
    "\n",
    "# y = df['diagnosis'] \n",
    "# X = df.drop('diagnosis', axis = 1) \n",
    "# X = X.drop('Unnamed: 32', axis = 1) \n",
    "# X = X.drop('id', axis = 1) \n",
    "# # Separating the dependent and independent variable \n",
    "\n",
    "# X_train, X_test, y_train, y_test = train_test_split( \n",
    "# \t\t\tX, y, test_size = 0.3, random_state = 0) \n",
    "# # Splitting the data into training and testing data \n"
   ]
  }
 ],
 "metadata": {
  "kernelspec": {
   "display_name": "Python 3 (ipykernel)",
   "language": "python",
   "name": "python3"
  },
  "language_info": {
   "codemirror_mode": {
    "name": "ipython",
    "version": 3
   },
   "file_extension": ".py",
   "mimetype": "text/x-python",
   "name": "python",
   "nbconvert_exporter": "python",
   "pygments_lexer": "ipython3",
   "version": "3.12.7"
  }
 },
 "nbformat": 4,
 "nbformat_minor": 5
}
